{
 "cells": [
  {
   "cell_type": "code",
   "execution_count": 7,
   "id": "6a4e79d1-cd04-4a61-a3ad-95b711789524",
   "metadata": {},
   "outputs": [],
   "source": [
    "from environment_adapted import Stochastic_env  # Import Stochastic environment\n",
    "#from environment import Stochastic\n",
    "from bandit import HYBRID\n",
    "import numpy as np\n",
    "from main import *\n",
    "import matplotlib.pyplot as plt"
   ]
  },
  {
   "cell_type": "code",
   "execution_count": 8,
   "id": "15dad3b6-e86f-43b2-a025-5917c9082d26",
   "metadata": {},
   "outputs": [
    {
     "ename": "TypeError",
     "evalue": "Stochastic_env.__init__() missing 2 required positional arguments: 'best_action' and 'mean_losses'",
     "output_type": "error",
     "traceback": [
      "\u001b[1;31m---------------------------------------------------------------------------\u001b[0m",
      "\u001b[1;31mTypeError\u001b[0m                                 Traceback (most recent call last)",
      "Cell \u001b[1;32mIn[8], line 11\u001b[0m\n\u001b[0;32m      9\u001b[0m snapshots \u001b[38;5;241m=\u001b[39m [i \u001b[38;5;241m*\u001b[39m \u001b[38;5;241m10\u001b[39m \u001b[38;5;28;01mfor\u001b[39;00m i \u001b[38;5;129;01min\u001b[39;00m \u001b[38;5;28mrange\u001b[39m(\u001b[38;5;241m1\u001b[39m, \u001b[38;5;28mint\u001b[39m(n_steps\u001b[38;5;241m/\u001b[39m\u001b[38;5;241m10\u001b[39m))]\n\u001b[0;32m     10\u001b[0m \u001b[38;5;66;03m# Initialize the stochastic environment\u001b[39;00m\n\u001b[1;32m---> 11\u001b[0m environment \u001b[38;5;241m=\u001b[39m Stochastic_env(gap\u001b[38;5;241m=\u001b[39mgap, dim\u001b[38;5;241m=\u001b[39mdim, m_size\u001b[38;5;241m=\u001b[39mm_size, n_steps\u001b[38;5;241m=\u001b[39mn_steps)\n\u001b[0;32m     12\u001b[0m \u001b[38;5;66;03m#environment = Stochastic(gap=gap, dim=dim, m_size=m_size, n_steps=n_steps)\u001b[39;00m\n\u001b[0;32m     13\u001b[0m \n\u001b[0;32m     14\u001b[0m \n\u001b[0;32m     15\u001b[0m \u001b[38;5;66;03m# Initialize the HYBRID bandit algorithm\u001b[39;00m\n\u001b[0;32m     16\u001b[0m \u001b[38;5;66;03m# action_set=\"m-set\" is required for the bandit algorithms but not for the environment\u001b[39;00m\n\u001b[0;32m     17\u001b[0m hybrid \u001b[38;5;241m=\u001b[39m HYBRID(dim\u001b[38;5;241m=\u001b[39mdim, action_set\u001b[38;5;241m=\u001b[39m\u001b[38;5;124m\"\u001b[39m\u001b[38;5;124mm-set\u001b[39m\u001b[38;5;124m\"\u001b[39m, m_size\u001b[38;5;241m=\u001b[39mm_size)\n",
      "\u001b[1;31mTypeError\u001b[0m: Stochastic_env.__init__() missing 2 required positional arguments: 'best_action' and 'mean_losses'"
     ]
    }
   ],
   "source": [
    "# Define experiment parameters\n",
    "gap = 0.1       # Difference between optimal and suboptimal arms\n",
    "dim = 10        # Number of arms (action space dimension)\n",
    "m_size = 2      # Number of active elements (M-set problem)\n",
    "n_steps = 30000  # Number of time steps\n",
    "random_seed = 42  # Ensure reproducibility\n",
    "mode=\"stochastic\" # this is required for the bandit algorithms\n",
    "\n",
    "snapshots = [i * 10 for i in range(1, int(n_steps/10))]\n",
    "# Initialize the stochastic environment\n",
    "environment = Stochastic_env(gap=gap, dim=dim, m_size=m_size, n_steps=n_steps)\n",
    "#environment = Stochastic(gap=gap, dim=dim, m_size=m_size, n_steps=n_steps)\n",
    "\n",
    "\n",
    "# Initialize the HYBRID bandit algorithm\n",
    "# action_set=\"m-set\" is required for the bandit algorithms but not for the environment\n",
    "hybrid = HYBRID(dim=dim, action_set=\"m-set\", m_size=m_size)\n",
    "\n",
    "# Set random seed for reproducibility\n",
    "#np.random.seed(random_seed)"
   ]
  },
  {
   "cell_type": "code",
   "execution_count": null,
   "id": "c8d00b02-160e-4360-8776-d06d390bb9d4",
   "metadata": {},
   "outputs": [],
   "source": [
    "bandit, environment =setup_game(dim=dim, m_size=m_size, gap=gap, mode=\"stochastic\", action_set=\"m-set\", algorithm=\"HYBRID\", n_steps=100)"
   ]
  },
  {
   "cell_type": "code",
   "execution_count": null,
   "id": "54345925-be7a-42ba-a6f5-7ed3f1350b6d",
   "metadata": {},
   "outputs": [],
   "source": [
    "pseudo_regret = run_simulation(bandit, environment, n_steps, snapshots)"
   ]
  },
  {
   "cell_type": "code",
   "execution_count": null,
   "id": "ad39e6d2-fb2e-4d44-be16-552132cd5025",
   "metadata": {},
   "outputs": [],
   "source": [
    "pseudo_regret=pseudo_regret.reshape(pseudo_regret.shape[0],1)"
   ]
  },
  {
   "cell_type": "code",
   "execution_count": null,
   "id": "3e935703-3325-4850-adba-97be06f01675",
   "metadata": {},
   "outputs": [],
   "source": [
    "plt.plot(pseudo_regret);"
   ]
  },
  {
   "cell_type": "code",
   "execution_count": null,
   "id": "52b1c8a4-5e3c-4b2b-bbe3-299c38f8b72a",
   "metadata": {},
   "outputs": [],
   "source": []
  }
 ],
 "metadata": {
  "kernelspec": {
   "display_name": "Python 3 (ipykernel)",
   "language": "python",
   "name": "python3"
  },
  "language_info": {
   "codemirror_mode": {
    "name": "ipython",
    "version": 3
   },
   "file_extension": ".py",
   "mimetype": "text/x-python",
   "name": "python",
   "nbconvert_exporter": "python",
   "pygments_lexer": "ipython3",
   "version": "3.11.7"
  }
 },
 "nbformat": 4,
 "nbformat_minor": 5
}
